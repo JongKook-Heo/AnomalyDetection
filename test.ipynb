{
 "cells": [
  {
   "cell_type": "code",
   "execution_count": 16,
   "metadata": {},
   "outputs": [
    {
     "name": "stdout",
     "output_type": "stream",
     "text": [
      "MUV | Target : MUV-689(classification)| Total 14606/93127 instances\n"
     ]
    },
    {
     "data": {
      "text/html": [
       "<div>\n",
       "<style scoped>\n",
       "    .dataframe tbody tr th:only-of-type {\n",
       "        vertical-align: middle;\n",
       "    }\n",
       "\n",
       "    .dataframe tbody tr th {\n",
       "        vertical-align: top;\n",
       "    }\n",
       "\n",
       "    .dataframe thead th {\n",
       "        text-align: right;\n",
       "    }\n",
       "</style>\n",
       "<table border=\"1\" class=\"dataframe\">\n",
       "  <thead>\n",
       "    <tr style=\"text-align: right;\">\n",
       "      <th></th>\n",
       "      <th>smiles</th>\n",
       "      <th>scaffold</th>\n",
       "      <th>label</th>\n",
       "    </tr>\n",
       "  </thead>\n",
       "  <tbody>\n",
       "    <tr>\n",
       "      <th>0</th>\n",
       "      <td>Cn1ccnc1SCC(=O)Nc1ccc(Oc2ccccc2)cc1</td>\n",
       "      <td>O=C(CSc1ncc[nH]1)Nc1ccc(Oc2ccccc2)cc1</td>\n",
       "      <td>0</td>\n",
       "    </tr>\n",
       "    <tr>\n",
       "      <th>1</th>\n",
       "      <td>O=C1/C(=C/NC2CCS(=O)(=O)C2)c2ccccc2C(=O)N1c1cc...</td>\n",
       "      <td>O=C1C(=CNC2CCS(=O)(=O)C2)c2ccccc2C(=O)N1c1ccccc1</td>\n",
       "      <td>0</td>\n",
       "    </tr>\n",
       "    <tr>\n",
       "      <th>2</th>\n",
       "      <td>COc1ccccc1Nc1nc2c(s1)CCC2</td>\n",
       "      <td>c1ccc(Nc2nc3c(s2)CCC3)cc1</td>\n",
       "      <td>0</td>\n",
       "    </tr>\n",
       "    <tr>\n",
       "      <th>3</th>\n",
       "      <td>O=C(CN1CCCC1)Nc1ccc(Oc2ccc(NC(=O)CN3CCCC3)cc2)cc1</td>\n",
       "      <td>O=C(CN1CCCC1)Nc1ccc(Oc2ccc(NC(=O)CN3CCCC3)cc2)cc1</td>\n",
       "      <td>0</td>\n",
       "    </tr>\n",
       "    <tr>\n",
       "      <th>4</th>\n",
       "      <td>CCCCN(CC)C(=O)Cc1cn(C)c2ccccc12</td>\n",
       "      <td>c1ccc2[nH]ccc2c1</td>\n",
       "      <td>0</td>\n",
       "    </tr>\n",
       "  </tbody>\n",
       "</table>\n",
       "</div>"
      ],
      "text/plain": [
       "                                              smiles  \\\n",
       "0                Cn1ccnc1SCC(=O)Nc1ccc(Oc2ccccc2)cc1   \n",
       "1  O=C1/C(=C/NC2CCS(=O)(=O)C2)c2ccccc2C(=O)N1c1cc...   \n",
       "2                          COc1ccccc1Nc1nc2c(s1)CCC2   \n",
       "3  O=C(CN1CCCC1)Nc1ccc(Oc2ccc(NC(=O)CN3CCCC3)cc2)cc1   \n",
       "4                    CCCCN(CC)C(=O)Cc1cn(C)c2ccccc12   \n",
       "\n",
       "                                            scaffold  label  \n",
       "0              O=C(CSc1ncc[nH]1)Nc1ccc(Oc2ccccc2)cc1      0  \n",
       "1   O=C1C(=CNC2CCS(=O)(=O)C2)c2ccccc2C(=O)N1c1ccccc1      0  \n",
       "2                          c1ccc(Nc2nc3c(s2)CCC3)cc1      0  \n",
       "3  O=C(CN1CCCC1)Nc1ccc(Oc2ccc(NC(=O)CN3CCCC3)cc2)cc1      0  \n",
       "4                                   c1ccc2[nH]ccc2c1      0  "
      ]
     },
     "execution_count": 16,
     "metadata": {},
     "output_type": "execute_result"
    }
   ],
   "source": [
    "from dataset.utils import read_moleculenet_smiles, scaffold_split, _generate_scaffold\n",
    "import pandas as pd\n",
    "data_path = './data/muv/muv.csv'\n",
    "target_list = ['MUV-692', 'MUV-689', 'MUV-846', 'MUV-859',\n",
    "               'MUV-644', 'MUV-548', 'MUV-852', 'MUV-600',\n",
    "               'MUV-810', 'MUV-712', 'MUV-737', 'MUV-858',\n",
    "               'MUV-713', 'MUV-733','MUV-652', 'MUV-466', 'MUV-832'],\n",
    "val_size = 0.1\n",
    "test_size = 0.1\n",
    "target = 'MUV-689'\n",
    "\n",
    "smiles_data, labels, _ = read_moleculenet_smiles(data_path, target, task='classification')\n",
    "scaffolds = [_generate_scaffold(smi) for smi in smiles_data]\n",
    "df = pd.DataFrame({'smiles':smiles_data, 'scaffold':scaffolds, 'label':labels})\n",
    "df.head()"
   ]
  },
  {
   "cell_type": "code",
   "execution_count": 20,
   "metadata": {},
   "outputs": [
    {
     "data": {
      "text/html": [
       "<div>\n",
       "<style scoped>\n",
       "    .dataframe tbody tr th:only-of-type {\n",
       "        vertical-align: middle;\n",
       "    }\n",
       "\n",
       "    .dataframe tbody tr th {\n",
       "        vertical-align: top;\n",
       "    }\n",
       "\n",
       "    .dataframe thead th {\n",
       "        text-align: right;\n",
       "    }\n",
       "</style>\n",
       "<table border=\"1\" class=\"dataframe\">\n",
       "  <thead>\n",
       "    <tr style=\"text-align: right;\">\n",
       "      <th></th>\n",
       "      <th>smiles</th>\n",
       "      <th>scaffold</th>\n",
       "      <th>label</th>\n",
       "    </tr>\n",
       "  </thead>\n",
       "  <tbody>\n",
       "    <tr>\n",
       "      <th>670</th>\n",
       "      <td>CCCCNC(=O)OCC(CC)NC(=O)OCC(C)C</td>\n",
       "      <td></td>\n",
       "      <td>0</td>\n",
       "    </tr>\n",
       "    <tr>\n",
       "      <th>4549</th>\n",
       "      <td>C#CCC(CC#C)(C(=O)OC)C(=O)OC</td>\n",
       "      <td></td>\n",
       "      <td>0</td>\n",
       "    </tr>\n",
       "    <tr>\n",
       "      <th>13138</th>\n",
       "      <td>CCCCC/C(C)=C(\\C#N)C(=O)OCC</td>\n",
       "      <td></td>\n",
       "      <td>0</td>\n",
       "    </tr>\n",
       "    <tr>\n",
       "      <th>8014</th>\n",
       "      <td>CN1CCN(CC#CC2(O)CCCCC2)CC1</td>\n",
       "      <td>C(#CC1CCCCC1)CN1CCNCC1</td>\n",
       "      <td>0</td>\n",
       "    </tr>\n",
       "    <tr>\n",
       "      <th>2877</th>\n",
       "      <td>CC(O)(C#CCN1CCCC1)c1ccccc1</td>\n",
       "      <td>C(#CCN1CCCC1)Cc1ccccc1</td>\n",
       "      <td>0</td>\n",
       "    </tr>\n",
       "    <tr>\n",
       "      <th>...</th>\n",
       "      <td>...</td>\n",
       "      <td>...</td>\n",
       "      <td>...</td>\n",
       "    </tr>\n",
       "    <tr>\n",
       "      <th>13123</th>\n",
       "      <td>CCSc1nnc(-c2sc3nnc(-c4ccccc4)c(-c4ccccc4)c3c2N)o1</td>\n",
       "      <td>c1ccc(-c2nnc3sc(-c4nnco4)cc3c2-c2ccccc2)cc1</td>\n",
       "      <td>1</td>\n",
       "    </tr>\n",
       "    <tr>\n",
       "      <th>11430</th>\n",
       "      <td>Clc1ccccc1CSc1nnc(-c2ccco2)c(-c2ccco2)n1</td>\n",
       "      <td>c1ccc(CSc2nnc(-c3ccco3)c(-c3ccco3)n2)cc1</td>\n",
       "      <td>1</td>\n",
       "    </tr>\n",
       "    <tr>\n",
       "      <th>8770</th>\n",
       "      <td>O=[N+]([O-])/C=C/c1cn(Cc2ccccc2)c2ccccc12</td>\n",
       "      <td>c1ccc(Cn2ccc3ccccc32)cc1</td>\n",
       "      <td>1</td>\n",
       "    </tr>\n",
       "    <tr>\n",
       "      <th>14426</th>\n",
       "      <td>CCC(C)COC(=O)C(C#N)c1nc2ccccc2nc1N1CCCCC1</td>\n",
       "      <td>c1ccc2nc(N3CCCCC3)cnc2c1</td>\n",
       "      <td>1</td>\n",
       "    </tr>\n",
       "    <tr>\n",
       "      <th>14522</th>\n",
       "      <td>CCN(CCO)c1nc(SC)nc2c1sc1nc(-c3ccco3)c3c(c12)CCC3</td>\n",
       "      <td>c1coc(-c2nc3sc4cncnc4c3c3c2CCC3)c1</td>\n",
       "      <td>1</td>\n",
       "    </tr>\n",
       "  </tbody>\n",
       "</table>\n",
       "<p>14606 rows × 3 columns</p>\n",
       "</div>"
      ],
      "text/plain": [
       "                                                  smiles  \\\n",
       "670                       CCCCNC(=O)OCC(CC)NC(=O)OCC(C)C   \n",
       "4549                         C#CCC(CC#C)(C(=O)OC)C(=O)OC   \n",
       "13138                         CCCCC/C(C)=C(\\C#N)C(=O)OCC   \n",
       "8014                          CN1CCN(CC#CC2(O)CCCCC2)CC1   \n",
       "2877                          CC(O)(C#CCN1CCCC1)c1ccccc1   \n",
       "...                                                  ...   \n",
       "13123  CCSc1nnc(-c2sc3nnc(-c4ccccc4)c(-c4ccccc4)c3c2N)o1   \n",
       "11430           Clc1ccccc1CSc1nnc(-c2ccco2)c(-c2ccco2)n1   \n",
       "8770           O=[N+]([O-])/C=C/c1cn(Cc2ccccc2)c2ccccc12   \n",
       "14426          CCC(C)COC(=O)C(C#N)c1nc2ccccc2nc1N1CCCCC1   \n",
       "14522   CCN(CCO)c1nc(SC)nc2c1sc1nc(-c3ccco3)c3c(c12)CCC3   \n",
       "\n",
       "                                          scaffold  label  \n",
       "670                                                     0  \n",
       "4549                                                    0  \n",
       "13138                                                   0  \n",
       "8014                        C(#CC1CCCCC1)CN1CCNCC1      0  \n",
       "2877                        C(#CCN1CCCC1)Cc1ccccc1      0  \n",
       "...                                            ...    ...  \n",
       "13123  c1ccc(-c2nnc3sc(-c4nnco4)cc3c2-c2ccccc2)cc1      1  \n",
       "11430     c1ccc(CSc2nnc(-c3ccco3)c(-c3ccco3)n2)cc1      1  \n",
       "8770                      c1ccc(Cn2ccc3ccccc32)cc1      1  \n",
       "14426                     c1ccc2nc(N3CCCCC3)cnc2c1      1  \n",
       "14522           c1coc(-c2nc3sc4cncnc4c3c3c2CCC3)c1      1  \n",
       "\n",
       "[14606 rows x 3 columns]"
      ]
     },
     "execution_count": 20,
     "metadata": {},
     "output_type": "execute_result"
    }
   ],
   "source": [
    "df.sort_values(by=['label', 'scaffold'])"
   ]
  },
  {
   "cell_type": "code",
   "execution_count": 18,
   "metadata": {},
   "outputs": [
    {
     "data": {
      "text/plain": [
       "29"
      ]
     },
     "execution_count": 18,
     "metadata": {},
     "output_type": "execute_result"
    }
   ],
   "source": [
    "df['label'].sum()"
   ]
  },
  {
   "cell_type": "code",
   "execution_count": null,
   "metadata": {},
   "outputs": [],
   "source": []
  }
 ],
 "metadata": {
  "kernelspec": {
   "display_name": "Python 3.7.13 ('BA_chapter1')",
   "language": "python",
   "name": "python3"
  },
  "language_info": {
   "codemirror_mode": {
    "name": "ipython",
    "version": 3
   },
   "file_extension": ".py",
   "mimetype": "text/x-python",
   "name": "python",
   "nbconvert_exporter": "python",
   "pygments_lexer": "ipython3",
   "version": "3.7.13"
  },
  "orig_nbformat": 4,
  "vscode": {
   "interpreter": {
    "hash": "4cdf2d1f2f36b6678c1823f3d1ac6609f6ad83c85e18f34ee97b44f3e0b406a8"
   }
  }
 },
 "nbformat": 4,
 "nbformat_minor": 2
}
